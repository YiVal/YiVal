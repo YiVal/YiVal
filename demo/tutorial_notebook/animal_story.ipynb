{
    "cells": [
        {
            "cell_type": "markdown",
            "metadata": {},
            "source": [
                "# Yival supports multi-model now 🎉🎉\n",
                "We can quickly experience the powerful features of Yival by visualizing some animal stories using Midjourney.\n",
                "\n",
                "![hello](https://uninaruto.oss-cn-shanghai.aliyuncs.com/img/816211693805398_.pic_hd.jpg)"
            ]
        },
        {
            "cell_type": "markdown",
            "metadata": {},
            "source": [
                "# Configure your OpenAI API key"
            ]
        },
        {
            "cell_type": "code",
            "execution_count": null,
            "metadata": {},
            "outputs": [],
            "source": [
                "import os\n",
                "os.environ['OPENAI_API_KEY'] = ''"
            ]
        },
        {
            "cell_type": "markdown",
            "metadata": {},
            "source": [
                "# Configure your [the next leg key](https://www.thenextleg.io/)\n",
                "\n",
                "We provide this key for user to try our product🐯"
            ]
        },
        {
            "cell_type": "markdown",
            "metadata": {},
            "source": [
                "# Configure your OpenAI API key"
            ]
        },
        {
            "cell_type": "code",
            "execution_count": null,
            "metadata": {},
            "outputs": [],
            "source": [
                "os.environ['MIDJOURNEY_TOKEN'] = '7ab0c4ac-4be4-419d-8656-ddb251383e17'"
            ]
        },
        {
            "cell_type": "markdown",
            "metadata": {},
            "source": [
                "# MidJourney demo\n",
                "\n",
                "```\n",
                "custom_function: demo.animal_story.image_generation\n",
                "description: Generated experiment config\n",
                "dataset:\n",
                "  data_generators:\n",
                "    openai_prompt_data_generator:\n",
                "      chunk_size: 100000\n",
                "      diversify: true\n",
                "      prompt:\n",
                "          \"Please provide a concrete and realistic test case as a dictionary for function invocation using the ** operator.\n",
                "          Only include parameters, excluding description and name.\n",
                "          Ensure it's succinct and well-structured.\n",
                "          **Only provide the dictionary.**\"\n",
                "      input_function:\n",
                "        description:\n",
                "          Given the species of an animal and its character, generate a corresponding story\n",
                "        name: animal_story_generation\n",
                "        parameters:\n",
                "          species: str\n",
                "          character: str\n",
                "          drawing_style: str\n",
                "      number_of_examples: 3\n",
                "      model_name: gpt-4\n",
                "      output_path: animal_story.pkl\n",
                "  source_type: machine_generated\n",
                "\n",
                "variations:\n",
                "  - name: task\n",
                "    generator_name: openai_prompt_based_variation_generator\n",
                "    generator_config:\n",
                "      model_name: gpt-4\n",
                "      number_of_variations: 3\n",
                "      diversify: true\n",
                "      max_tokens: 2000\n",
                "      variables: null\n",
                "      prompt: \n",
                "        - content: |-\n",
                "            Your object is to construct a concise instruction prompt for GPT-4. This prompt will instruct GPT-4 as a gentle, imaginative children's writer to write all kinds of cute, kid-friendly stories based on animal species and personalities for an audience of YOUNG ADULTS and TEENAGERS.\n",
                "            Points to emphasize in your instruction:\n",
                "              -  GPT4 Answers should have a short storyline and should be sufficiently imaginative, answers should focus on the location in which the story takes place with its style of drawing, the location and style of drawing can be contrary to the laws of reality, dream-like or realistic.\n",
                "              -   The story must be kept lively and as short, short, short, short, short as possible. The story should have a variety of backgrounds + drawing styles and fully emphasize the location where the story takes place; it can be dreamlike and generally bizarre.\n",
                "              -  Be sure to use words that are as easy to understand as possible so TEENAGERS can easily understand the story.\n",
                "              -   Please limit the output to within 300 words\n",
                "            - {animal_species} represent the species of the animal\n",
                "            - {animal_character} represent the character of the animal\n",
                "            - At all times, gpt-4 must give a response as an animal story\n",
                "\n",
                "            Craft your instruction Ensure that GPT-4 is able to fully understand the types and personalities of small animals and write engaging and fully pictorial stories.\n",
                "            keep your output crisp: only the prompt, devoid of any extraneous content.\n",
                "\n",
                "          role: system\n",
                "\n",
                "evaluators:\n",
                "  - evaluator_type: individual\n",
                "    metric_calculators:\n",
                "      - method: AVERAGE\n",
                "    name: openai_prompt_based_evaluator\n",
                "    display_name: story_quality\n",
                "    prompt: |-\n",
                "      You are assessing a submitted story based on a given task based on a criterion. Here is the data:\n",
                "      - Task: Given the species of an animal and corresponding character, generate one story.\n",
                "      - Does the story demonstrate creativity, coherence, and engaging narrative? A well-written story should captivate the reader and effectively convey a compelling narrative with clear structure and character development.\n",
                "      [Input]: animal_species : {species}, animal_character: {character}\n",
                "      [Result]: {raw_output}\n",
                "      Answer the question by selecting one of the following options:\n",
                "      A The story is of very low quality and lacks coherence and engagement.\n",
                "      B The story has some issues with coherence and engagement, but has potential for improvement.\n",
                "      C The story is of satisfactory quality, but there is room for improvement.\n",
                "      D The story is well-written and demonstrates good coherence and engagement.\n",
                "      E The story is exceptionally well-written, demonstrating strong coherence and engagement.\n",
                "    choices: [\"A\", \"B\", \"C\", \"D\", \"E\"]\n",
                "    # model_name specify the llm model , e.g. a16z-infra/llama-2-13b-chat:9dff94b1bed5af738655d4a7cbcdcde2bd503aa85c94334fe1f42af7f3dd5ee3\n",
                "    model_name: gpt-4\n",
                "    description: \"evaluate the quality of the generated story\"\n",
                "    scale_description: \"0-4\"\n",
                "    choice_scores:\n",
                "      A: 0\n",
                "      B: 1\n",
                "      C: 2\n",
                "      D: 3\n",
                "      E: 4\n",
                "\n",
                "human_rating_configs:\n",
                "  - name: relevance\n",
                "    instructions: Rate the relevance of the image to the story.\n",
                "    scale: [1, 5]\n",
                "\n",
                "  - name: image_quality\n",
                "    instructions: Rate the quality of the generated image.\n",
                "    scale: [1, 5]\n",
                "\n",
                "\n",
                "selection_strategy:\n",
                "  ahp_selection:\n",
                "    criteria:\n",
                "      - \"openai_prompt_based_evaluator: story_quality\"\n",
                "      - average_token_usage\n",
                "      - average_latency\n",
                "    criteria_maximization:\n",
                "      \"openai_prompt_based_evaluator: story_quality\": true\n",
                "      average_latency: false\n",
                "      average_token_usage: false\n",
                "    criteria_weights:\n",
                "      \"openai_prompt_based_evaluator: story_quality\": 1\n",
                "      average_latency: 0.0\n",
                "      average_token_usage: 0.0\n",
                "    # normalize_func: \"z-score\"\n",
                "\n",
                "enhancer:\n",
                "  name: \"optimize_by_prompt_enhancer\"\n",
                "  model_name: \"gpt-4\"\n",
                "  max_iterations: 2\n",
                "  enhance_var: [\"task\"]\n",
                "  head_meta_instruction: |\n",
                "    Now you will help me generate a prompt which is used to generate a corresponding\n",
                "    story according to the species of an animal which is [animal_species] and its character [animal_character]. \n",
                "    I already have some prompt and its evaluation results :\n",
                "    \n",
                "  end_meta_instruction: |\n",
                "    Give me a new prompt that is different from all pairs above, and has a evaluation value higher than any of above.\n",
                "```\n",
                "\n",
                "In this demo , we mainly focus on writing stories accoding to animal species and character , and then midjourney will generate the corresponding cover of this story.\n",
                "\n",
                "For dataset , opanai_prompt_data_generator will generate the animal species and its character like { cat , brave }\n",
                "\n",
                "For variation , we write one prompt that generate generate-animal-story-template.\n",
                "\n",
                "We format this template with { species , character } and generate detailed stories through GPT-4 , and with Midjourney we visualzie this story.\n",
                "\n",
                "Also , we use opro_enhancer to automatically improve our prompt, which you can find more information in yival posts."
            ]
        },
        {
            "cell_type": "markdown",
            "metadata": {},
            "source": [
                "![image](https://uninaruto.oss-cn-shanghai.aliyuncs.com/img/818501693828594_.pic.jpg)"
            ]
        },
        {
            "cell_type": "markdown",
            "metadata": {},
            "source": [
                "# Multi-model YIVAL !"
            ]
        },
        {
            "cell_type": "code",
            "execution_count": null,
            "metadata": {},
            "outputs": [],
            "source": [
                "!poetry run yival run /content/YiVal/demo/configs/animal_story.yml"
            ]
        }
    ],
    "metadata": {
        "language_info": {
            "name": "python"
        },
        "orig_nbformat": 4
    },
    "nbformat": 4,
    "nbformat_minor": 2
}
