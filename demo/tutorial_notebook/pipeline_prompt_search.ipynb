{
    "cells": [
        {
            "cell_type": "markdown",
            "metadata": {},
            "source": [
                "# Install yival😺"
            ]
        },
        {
            "cell_type": "code",
            "execution_count": null,
            "metadata": {},
            "outputs": [],
            "source": [
                "%pip install openai\n",
                "%pip install yival\n",
                "%pip install numpy\n",
                "import openai\n",
                "import os"
            ]
        },
        {
            "cell_type": "markdown",
            "metadata": {},
            "source": [
                "# Make sure you have config your openai_api_key"
            ]
        },
        {
            "cell_type": "code",
            "execution_count": null,
            "metadata": {},
            "outputs": [],
            "source": [
                "def openai_completion(message:str, tem=0.3) -> str:\n",
                "  openai.api_key = os.getenv(\"OPENAI_API_KEY\")\n",
                "  messages = [\n",
                "    {\n",
                "        \"role\":\"user\",\n",
                "        \"content\":message\n",
                "    }\n",
                "  ]\n",
                "\n",
                "  response = openai.ChatCompletion.create(\n",
                "        model=\"gpt-3.5-turbo\", messages=messages, temperature=tem\n",
                "    )\n",
                "  res = response['choices'][0]['message']['content']\n",
                "  return res\n",
                "\n",
                "os.environ['OPENAI_API_KEY']=''\n",
                "print(openai_completion('hello chatgpt!'))"
            ]
        },
        {
            "cell_type": "markdown",
            "metadata": {},
            "source": [
                "# Pipeline prompt Generate\n",
                "1. Generate prompt with base_prompt or improve_prompt\n",
                "2. view prompt output with test_variations\n",
                "3. human give suggestions , then goto 1\n",
                "\n",
                "1->2->3->1->...\n",
                "\n",
                "Loop until you have find your best prompt"
            ]
        },
        {
            "cell_type": "markdown",
            "metadata": {},
            "source": [
                "## Set prompt config and test_variations\n",
                "\n",
                "\"In the current demo, we want GPT-4 to generate a prompt for 'Writing a landing page headline based on startup company information'\n",
                "\n",
                "And we use two company name for test : 'BrightPath Innovations' and 'SparkleEdge Technologies'"
            ]
        },
        {
            "cell_type": "code",
            "execution_count": 1,
            "metadata": {},
            "outputs": [],
            "source": [
                "from yival.wrappers.string_wrapper import StringWrapper\n",
                "import pandas as pd\n",
                "\n",
                "base_prompt = \"\"\"\n",
                "Hi, You are the best prompt writer!\n",
                "Your object is to construct a concise instruction prompt for GPT-4. This prompt will guide GPT-4 in its interactions as a professional writer who writes attractive landing page headline for startup business according to its name.\n",
                "Points to emphasize in your instruction:\n",
                " - GPT4 will play the role of an experienced, mature and sophisticated writer who is familiar with all kinds of pop-up landing page headlines and is very creative.\n",
                " - The GPT-4 response should conform to the basic structure of the company's landing page headline, be able to fully reflect the company's identity, and be able to attract a sufficiently large number of people\n",
                " - {company_name} represent the name of the company\n",
                " - At all times, GPT-4 must give a response as landing page headline.\n",
                "\n",
                "Craft your instruction ensuring GPT-4 understands the name of the startup company and generate attractive professional landing page headline according to its name.\n",
                "keep your output crisp: only the prompt, devoid of any extraneous content.\n",
                "\"\"\"\n",
                "\n",
                "enhance_prompt = \"\"\"\n",
                "Hi , you are the best prompt enhancer!\n",
                "Your object is to improve the given prompt according to the suggestions.\n",
                "\n",
                "Understand the given prompt and the suggestion , correct the prompt according to the suggestion , and give prompt back.\n",
                "Remember your goal is to write prompt according to the given prompt , the goal of the prompt should be same , just improve it.\n",
                "\n",
                "- prompt:{prompt}\n",
                "- suggestion:{suggestion}\n",
                "keep your output crisp: only the prompt, devoid of any extraneous content.\n",
                "\"\"\"\n",
                "\n",
                "gen_prompts = [base_prompt]\n",
                "df_result = []"
            ]
        },
        {
            "cell_type": "code",
            "execution_count": 2,
            "metadata": {},
            "outputs": [],
            "source": [
                "# design your custom_func\n",
                "def custom_func(prompt:str,variation:str) -> str:\n",
                "  return openai_completion(str(StringWrapper(prompt,\"\",variation)),tem=0.7)"
            ]
        },
        {
            "cell_type": "code",
            "execution_count": null,
            "metadata": {},
            "outputs": [],
            "source": [
                "def optimize_prompt(base_prompt:str, suggestions:str)->str:\n",
                "  if suggestions:\n",
                "    generate_prompt = openai_completion(str(StringWrapper(improve_prompt,\"\",{\"prompt\":base_prompt,\"suggestion\":suggestions})),tem=0.4)\n",
                "  else:\n",
                "    generate_prompt = openai_completion(base_prompt)\n",
                "  gen_prompts.append(generate_prompt)\n",
                "  return generate_prompt\n",
                "\n",
                "\n",
                "def view_output(prompt:str, example_variations:list)->None:\n",
                "  result = [prompt] + [custom_func(prompt,var) for var in example_variations]\n",
                "  # print(f\"result:{result}\")\n",
                "  # for var_name,gen in result:\n",
                "  #   print(f\"{var_name}: {gen}\")\n",
                "  # df_result = [r[0] for r in result]\n",
                "  df_result.append(result)"
            ]
        },
        {
            "cell_type": "code",
            "execution_count": null,
            "metadata": {},
            "outputs": [],
            "source": [
                "# test variations\n",
                "test_variations = [{'company_name': 'BrightPath Innovations'},{'company_name': 'SparkleEdge Technologies'}]\n",
                "\n",
                "# Set suggestions = None for first generate\n",
                "suggestions = None"
            ]
        },
        {
            "cell_type": "markdown",
            "metadata": {},
            "source": [
                "## Step1: Generate prompt with base_prompt or improve_prompt"
            ]
        },
        {
            "cell_type": "code",
            "execution_count": null,
            "metadata": {},
            "outputs": [],
            "source": [
                "#Step 1: generate new prompt\n",
                "new_prompt = optimize_prompt(gen_prompts[-1],suggestions)\n",
                "print(f\"New prompt is now : {new_prompt}\")"
            ]
        },
        {
            "cell_type": "markdown",
            "metadata": {},
            "source": [
                "## Step2 : View output of the new result"
            ]
        },
        {
            "cell_type": "code",
            "execution_count": null,
            "metadata": {},
            "outputs": [],
            "source": [
                "#Step 2: view output of the new result\n",
                "view_output(new_prompt, test_variations)\n",
                "pd.DataFrame(df_result,columns= [\"prompt\"] + [str(v) for v in test_variations] )"
            ]
        },
        {
            "cell_type": "markdown",
            "metadata": {},
            "source": [
                "## Step 3: Write suggestions to the prompt according to the variation outputs"
            ]
        },
        {
            "cell_type": "code",
            "execution_count": 3,
            "metadata": {},
            "outputs": [
                {
                    "name": "stdout",
                    "output_type": "stream",
                    "text": [
                        "enhancer prompt: \n",
                        " \n",
                        "Hi , you are the best prompt enhancer!\n",
                        "Your object is to improve the given prompt according to the suggestions.\n",
                        "\n",
                        "Understand the given prompt and the suggestion , correct the prompt according to the suggestion , and give prompt back.\n",
                        "Remember your goal is to write prompt according to the given prompt , the goal of the prompt should be same , just improve it.\n",
                        "\n",
                        "- prompt:\n",
                        "Hi, You are the best prompt writer!\n",
                        "Your object is to construct a concise instruction prompt for GPT-4. This prompt will guide GPT-4 in its interactions as a professional writer who writes attractive landing page headline for startup business according to its name.\n",
                        "Points to emphasize in your instruction:\n",
                        " - GPT4 will play the role of an experienced, mature and sophisticated writer who is familiar with all kinds of pop-up landing page headlines and is very creative.\n",
                        " - The GPT-4 response should conform to the basic structure of the company's landing page headline, be able to fully reflect the company's identity, and be able to attract a sufficiently large number of people\n",
                        " - {company_name} represent the name of the company\n",
                        " - At all times, GPT-4 must give a response as landing page headline.\n",
                        "\n",
                        "Craft your instruction ensuring GPT-4 understands the name of the startup company and generate attractive professional landing page headline according to its name.\n",
                        "keep your output crisp: only the prompt, devoid of any extraneous content.\n",
                        "\n",
                        "- suggestion:I want the headline to be more creative!\n",
                        "keep your output crisp: only the prompt, devoid of any extraneous content.\n",
                        "\n"
                    ]
                }
            ],
            "source": [
                "#Step3: Write suggestions to the prompt according to the variation outputs\n",
                "suggestions = \"I want the headline to be more creative!\"\n",
                "enhancer_prompt = StringWrapper(improve_prompt,\"\",{\"prompt\":gen_prompts[-1],\"suggestion\":suggestions})\n",
                "print(f\"enhancer prompt: \\n {enhancer_prompt}\")"
            ]
        },
        {
            "cell_type": "markdown",
            "metadata": {},
            "source": [
                "## if the prompt is not good enough : Goto Step1"
            ]
        }
    ],
    "metadata": {
        "kernelspec": {
            "display_name": "py310",
            "language": "python",
            "name": "python3"
        },
        "language_info": {
            "codemirror_mode": {
                "name": "ipython",
                "version": 3
            },
            "file_extension": ".py",
            "mimetype": "text/x-python",
            "name": "python",
            "nbconvert_exporter": "python",
            "pygments_lexer": "ipython3",
            "version": "3.10.12"
        },
        "orig_nbformat": 4
    },
    "nbformat": 4,
    "nbformat_minor": 2
}
